{
  "nbformat": 4,
  "nbformat_minor": 0,
  "metadata": {
    "colab": {
      "name": "obi_train.ipynb",
      "provenance": [],
      "collapsed_sections": [],
      "mount_file_id": "1HCxadmJC_4EeAr_MVG9itUQefUQMZU56",
      "authorship_tag": "ABX9TyOZZGa1IzD7ZYeCX8FVN0B8",
      "include_colab_link": true
    },
    "kernelspec": {
      "name": "python3",
      "display_name": "Python 3"
    },
    "accelerator": "GPU"
  },
  "cells": [
    {
      "cell_type": "markdown",
      "metadata": {
        "id": "view-in-github",
        "colab_type": "text"
      },
      "source": [
        "<a href=\"https://colab.research.google.com/github/MasahikoAtsumi/deep_lec/blob/main/obi_train.ipynb\" target=\"_parent\"><img src=\"https://colab.research.google.com/assets/colab-badge.svg\" alt=\"Open In Colab\"/></a>"
      ]
    },
    {
      "cell_type": "markdown",
      "metadata": {
        "id": "BTZbbXpJb4ME"
      },
      "source": [
        "**古代文字の認識**\r\n",
        "\r\n",
        "ここで我々の研究室で長年引き継がれてきた、CNNを用いた古代文字の認識を試してみよう。\r\n"
      ]
    },
    {
      "cell_type": "markdown",
      "metadata": {
        "id": "Jyg1fN07ebNW"
      },
      "source": [
        "実行に移るまえに、データセット（学習の対象）を用意しなければいけない。\r\n",
        "\r\n",
        "研究室のホームページから、obiデータセットをダウンロードし、それを(Imagesフォルダ)\r\n",
        "ドライブにアップロードをしてほしい。\r\n",
        "\r\n",
        "それが終わったら、順に下のコード実行しよう。\r\n"
      ]
    },
    {
      "cell_type": "code",
      "metadata": {
        "id": "Vv49pxUSfGxN"
      },
      "source": [
        "from google.colab import drive\r\n",
        "drive.mount('/content/drive')"
      ],
      "execution_count": null,
      "outputs": []
    },
    {
      "cell_type": "code",
      "metadata": {
        "id": "USL5UyVMb1Yu"
      },
      "source": [
        "import keras\r\n",
        "\r\n",
        "#keras.applications.xception.Xception(input_tensor=None, input_shape=None, pooling=None, classes=1000)\r\n",
        "#difine model\r\n",
        "model = keras.applications.xception.Xception(include_top=True,weights=None, input_tensor=None, input_shape=None, pooling=None, classes=29)\r\n",
        "model.compile(optimizer = 'adam', loss = 'categorical_crossentropy', metrics = ['accuracy'])\r\n",
        "\r\n",
        "from keras.preprocessing.image import ImageDataGenerator\r\n",
        "#set dataset\r\n",
        "train_datagen = ImageDataGenerator(rescale=1./255,\r\n",
        "    shear_range=0.2,\r\n",
        "        zoom_range=0.2,\r\n",
        "    horizontal_flip=True,                            \r\n",
        "    validation_split=0.2) \r\n",
        "train_generator = train_datagen.flow_from_directory(\r\n",
        "    '/content/drive/My Drive/Images',\r\n",
        "    target_size=(299,299),\r\n",
        "    batch_size=8,\r\n",
        "    class_mode='categorical',\r\n",
        "    subset='training')\r\n",
        "\r\n",
        "validation_generator = train_datagen.flow_from_directory(\r\n",
        "    '/content/drive/My Drive/Images',\r\n",
        "    target_size=(299,299),\r\n",
        "    batch_size=8,\r\n",
        "    class_mode='categorical',\r\n",
        "    subset='validation')\r\n",
        "\r\n",
        "#set the information about training\r\n",
        "hist = model.fit_generator(\r\n",
        "    train_generator,\r\n",
        "    steps_per_epoch = train_generator.samples // 10,\r\n",
        "    validation_data = validation_generator, \r\n",
        "    validation_steps = validation_generator.samples // 10,\r\n",
        "    epochs = 10)\r\n",
        "\r\n",
        "#save the model and the weight\r\n",
        "json_string=model.to_json()\r\n",
        "open('obi_cnn.json',\"w\").write(json_string)\r\n",
        "model.save_weights('obi_cnn.h5')\r\n",
        "\r\n",
        "\r\n",
        "import cv2\r\n",
        "import os\r\n",
        "for root, dirs, files in os.walk('/content/drive/My Drive/Images'):\r\n",
        "        for i in files:\r\n",
        "             if i.endswith(\".pgm\"):\r\n",
        "                    os.remove(os.path.join(root, i))"
      ],
      "execution_count": null,
      "outputs": []
    },
    {
      "cell_type": "markdown",
      "metadata": {
        "id": "hmsgBii8fs3H"
      },
      "source": [
        "少し時間がかかるかもしれない。\r\n",
        "\r\n",
        "気長に待とう。\r\n",
        "\r\n",
        "実行が終わったら、任意の画像を読み込んでみよう。\r\n",
        "\r\n"
      ]
    },
    {
      "cell_type": "code",
      "metadata": {
        "id": "NxhZQQDxgxAn"
      },
      "source": [
        "from keras.models import model_from_json\r\n",
        "import matplotlib.pyplot as plt\r\n",
        "from keras.preprocessing.image import img_to_array, load_img\r\n",
        "import numpy as np\r\n",
        "import os\r\n",
        "\r\n",
        "#load image\r\n",
        "temp_img=load_img(\"/content/drive/My Drive/Images/ask/0000_67761.3_13_0.pgm.png\",target_size=(299,299))\r\n",
        "\r\n",
        "#normalize\r\n",
        "temp_img_array=img_to_array(temp_img)\r\n",
        "temp_img_array=temp_img_array.astype('float32')/255.0\r\n",
        "temp_img_array=temp_img_array.reshape((1,299,299,3))\r\n",
        "\r\n",
        "#load model\r\n",
        "json_string=open('/content/obi_cnn.json').read()\r\n",
        "model=model_from_json(json_string)\r\n",
        "model.compile(optimizer='adam',loss='categorical_crossentropy',metrics=['accuracy'])\r\n",
        "model.load_weights('obi_cnn.h5')\r\n",
        "\r\n",
        "#define class\r\n",
        "path = '/content/drive/My Drive/Images/'\r\n",
        "files = os.listdir(path)\r\n",
        "files_dir = [f for f in files if os.path.isdir(os.path.join(path, f))]\r\n",
        "files_dir = ['ajia', 'ame', 'ask', 'bou', 'dollar', 'five', 'hi', 'high', 'hinoe', \r\n",
        "             'hu', 'jin', 'kou', 'mi', 'ne', 'now', 'onore', 'otsu', 'paddy', 'rapit',\r\n",
        "             'rou', 'sada', 'san', 'spics', 'stand', 'that', 'to', 'ushi', 'yoku', 'you']\r\n",
        "  \r\n",
        "\r\n",
        "#predict\r\n",
        "img_pred=model.predict(temp_img_array)\r\n",
        "print('\\npredict_classes=',files_dir[np.argmax(img_pred)] )\r\n",
        "\r\n",
        "plt.imshow(temp_img)\r\n",
        "plt.title('pred:{}'.format(img_pred))\r\n",
        "plt.show()"
      ],
      "execution_count": null,
      "outputs": []
    },
    {
      "cell_type": "markdown",
      "metadata": {
        "id": "hZ8z99sVqOMh"
      },
      "source": [
        "どうだろう？\r\n",
        "\r\n",
        "正しく認識されただろうか？\r\n",
        "\r\n",
        "選ぶクラスによっては正しく認識されない場合もある。\r\n",
        "\r\n",
        "その場合はなぜ認識されなかったのかを考えてみよう。\r\n",
        "\r\n",
        "本来であれば、学習に使われたデータを評価に用いるのはよくない。\r\n",
        "\r\n",
        "研究の際は、学習とは別にテストデータを用意して評価しよう。"
      ]
    }
  ]
}