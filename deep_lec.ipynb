{
  "nbformat": 4,
  "nbformat_minor": 0,
  "metadata": {
    "accelerator": "GPU",
    "colab": {
      "name": "train.ipynb",
      "provenance": [],
      "collapsed_sections": [],
      "authorship_tag": "ABX9TyOevD/RtZDy62GKps3DVGmN",
      "include_colab_link": true
    },
    "kernelspec": {
      "display_name": "Python 3",
      "name": "python3"
    }
  },
  "cells": [
    {
      "cell_type": "markdown",
      "metadata": {
        "id": "view-in-github",
        "colab_type": "text"
      },
      "source": [
        "<a href=\"https://colab.research.google.com/github/MasahikoAtsumi/deep_lec/blob/main/deep_lec.ipynb\" target=\"_parent\"><img src=\"https://colab.research.google.com/assets/colab-badge.svg\" alt=\"Open In Colab\"/></a>"
      ]
    },
    {
      "cell_type": "markdown",
      "metadata": {
        "id": "FAgMhXQKxA_x"
      },
      "source": [
        "# 学習のフェーズについて学ぶ…\r\n",
        "スライドで説明したようにまず機械は傾向について学ばなければならない…\r\n",
        "\r\n",
        "0 - airplane\r\n",
        "\r\n",
        "1 - automobile\r\n",
        "\r\n",
        "2 - bird\r\n",
        "\r\n",
        "3 - cat\r\n",
        "\r\n",
        "4 - deer\r\n",
        "\r\n",
        "5 - dog\r\n",
        "\r\n",
        "6 - frog\r\n",
        "\r\n",
        "7 - horse\r\n",
        "\r\n",
        "8 - ship\r\n",
        "\r\n",
        "9 - truck \r\n",
        "\r\n",
        "とりあえず、分類する画像を見てみよう…\r\n",
        "\r\n",
        "\r\n"
      ]
    },
    {
      "cell_type": "code",
      "metadata": {
        "id": "2NHWoPZ-0llu"
      },
      "source": [
        "from keras.datasets import cifar10\r\n",
        "import matplotlib.pyplot as plt\r\n",
        "import numpy as np\r\n",
        "\r\n",
        "#load image\r\n",
        "(x_train,y_train),(x_test,y_test)=cifar10.load_data()\r\n",
        "\r\n",
        "#show image\r\n",
        "plt.figure(figsize=(10,10))\r\n",
        "for i in range(9):\r\n",
        "    rand_num=np.random.randint(0,50000)\r\n",
        "    cifar_img=plt.subplot(3,3,i+1)\r\n",
        "    plt.imshow(x_train[rand_num])\r\n",
        "    \r\n",
        "    #show correct label\r\n",
        "    plt.title(y_train[rand_num])\r\n",
        "\r\n",
        "\r\n",
        "plt.show()"
      ],
      "execution_count": null,
      "outputs": []
    },
    {
      "cell_type": "markdown",
      "metadata": {
        "id": "dJndezZm1Wmf"
      },
      "source": [
        "以上の10種類の画像を分類できるか？\r\n",
        "\r\n",
        "次のコードで機械が学んでいく…"
      ]
    },
    {
      "cell_type": "code",
      "metadata": {
        "id": "5sJldhYjudvL"
      },
      "source": [
        "from keras.models import Sequential\r\n",
        "from keras.layers.convolutional import Conv2D\r\n",
        "from keras.layers.pooling import MaxPool2D\r\n",
        "from keras.layers.core import Dense,Activation,Dropout,Flatten\r\n",
        "from keras.datasets import cifar10\r\n",
        "from keras.utils import np_utils\r\n",
        "\r\n",
        "#Down load cifar10\r\n",
        "(x_train,y_train),(x_test,y_test)=cifar10.load_data()\r\n",
        "\r\n",
        "#normalize\r\n",
        "x_train=x_train.astype('float32')/255.0\r\n",
        "x_test=x_test.astype('float32')/255.0\r\n",
        "\r\n",
        "#change labels to one-hot\r\n",
        "y_train=np_utils.to_categorical(y_train,10)\r\n",
        "y_test=np_utils.to_categorical(y_test,10)\r\n",
        "\r\n",
        "#Difine the model\r\n",
        "model=Sequential()\r\n",
        "\r\n",
        "model.add(Conv2D(32,(3,3),padding='same',input_shape=(32,32,3)))\r\n",
        "model.add(Activation('relu'))\r\n",
        "model.add(Conv2D(32,(3,3),padding='same'))\r\n",
        "model.add(Activation('relu'))\r\n",
        "model.add(MaxPool2D(pool_size=(2,2)))\r\n",
        "model.add(Dropout(0.25))\r\n",
        "\r\n",
        "model.add(Conv2D(64,(3,3),padding='same'))\r\n",
        "model.add(Activation('relu'))\r\n",
        "model.add(Conv2D(64,(3,3),padding='same'))\r\n",
        "model.add(Activation('relu'))\r\n",
        "model.add(MaxPool2D(pool_size=(2,2)))\r\n",
        "model.add(Dropout(0.25))\r\n",
        "\r\n",
        "model.add(Flatten())\r\n",
        "model.add(Dense(512))\r\n",
        "model.add(Activation('relu'))\r\n",
        "model.add(Dropout(0.5))\r\n",
        "model.add(Dense(10,activation='softmax'))\r\n",
        "\r\n",
        "model.compile(optimizer='adam',loss='categorical_crossentropy',metrics=['accuracy'])\r\n",
        "\r\n",
        "history=model.fit(x_train,y_train,batch_size=128,epochs=20,verbose=1,validation_split=0.1)\r\n",
        "\r\n",
        "#save the model and the weight\r\n",
        "json_string=model.to_json()\r\n",
        "open('cifar10_cnn.json',\"w\").write(json_string)\r\n",
        "model.save_weights('cifar10_cnn.h5')\r\n",
        "\r\n",
        "#show the model\r\n",
        "model.summary()\r\n",
        "\r\n",
        "#evaluate\r\n",
        "score=model.evaluate(x_test,y_test,verbose=0)\r\n",
        "print('Test loss:',score[0])\r\n",
        "print('Test accuracy:',score[1])\r\n",
        "#save\r\n",
        "json_string=model.to_json()\r\n",
        "open('cifar10_cnn.json',\"w\").write(json_string)\r\n"
      ],
      "execution_count": null,
      "outputs": []
    },
    {
      "cell_type": "markdown",
      "metadata": {
        "id": "ql3NdiqNxeae"
      },
      "source": [
        "ファイルを確認してほしい。\r\n",
        ".h5が生成させれているのがわかる。これが学習の結果得られたパラメータの集合である。\r\n",
        "\r\n",
        "次のフェーズでは、推論つまり、学習の結果得られたパラメータを利用し、入力画像をあてることができるか判断するプログラムである…\r\n",
        "\r\n",
        "ansの隣の文字が推論結果である。\r\n",
        "\r\n",
        "どうだろうか？正しく推測されているだろうか。\r\n"
      ]
    },
    {
      "cell_type": "code",
      "metadata": {
        "id": "3p94Gpn6v68N"
      },
      "source": [
        "from keras.datasets import cifar10\r\n",
        "from keras.models import model_from_json\r\n",
        "from keras.utils import np_utils\r\n",
        "import matplotlib.pyplot as plt\r\n",
        "import numpy as np\r\n",
        "\r\n",
        "#Download cifar10\r\n",
        "(_,_),(x_test_img,y_test_img)=cifar10.load_data()\r\n",
        "\r\n",
        "#nomalize\r\n",
        "x_test=x_test_img.astype('float32')/255.0\r\n",
        "\r\n",
        "#change labels to one-hot\r\n",
        "y_test=np_utils.to_categorical(y_test_img,10)\r\n",
        "\r\n",
        "#load the model \r\n",
        "json_string=open('cifar10_cnn.json').read()\r\n",
        "model=model_from_json(json_string)\r\n",
        "model.compile(optimizer='adam',loss='categorical_crossentropy',metrics=['accuracy'])\r\n",
        "model.load_weights('cifar10_cnn.h5')\r\n",
        "\r\n",
        "#evaluate\r\n",
        "score=model.evaluate(x_test,y_test,verbose=0)\r\n",
        "print('Test loss:',score[0])\r\n",
        "print('Test accuracy:',score[1])\r\n",
        "\r\n",
        "#predict\r\n",
        "img_pred=model.predict_classes(x_test)\r\n",
        "\r\n",
        "#show images and results of the prediction\r\n",
        "plt.figure(figsize=(10,10))\r\n",
        "for i in range(25):\r\n",
        "    rand_num=np.random.randint(0,10000)\r\n",
        "    cifar_img=plt.subplot(5,5,i+1)\r\n",
        "    plt.imshow(x_test_img[rand_num])\r\n",
        "    plt.tick_params(labelbottom='off')\r\n",
        "    plt.tick_params(labelleft='off')\r\n",
        "    #prediction\r\n",
        "    plt.title('pred:{0},ans:{1}'.format(img_pred[rand_num],y_test_img[rand_num]))\r\n",
        "\r\n",
        "plt.show()"
      ],
      "execution_count": null,
      "outputs": []
    },
    {
      "cell_type": "markdown",
      "metadata": {
        "id": "a1POvce-zyWh"
      },
      "source": [
        "次は任意の画像で試してみよう。\r\n",
        "\r\n",
        "ここではairplane.jpeg を用いて対応するクラス[1]が出力されるか見てみよう。"
      ]
    },
    {
      "cell_type": "code",
      "metadata": {
        "id": "h35xnpt4wU70"
      },
      "source": [
        "from keras.models import model_from_json\r\n",
        "import matplotlib.pyplot as plt\r\n",
        "from keras.preprocessing.image import img_to_array, load_img\r\n",
        "\r\n",
        "#load image\r\n",
        "temp_img=load_img(\"./airplane.jpeg\",target_size=(32,32))\r\n",
        "\r\n",
        "#normalize\r\n",
        "temp_img_array=img_to_array(temp_img)\r\n",
        "temp_img_array=temp_img_array.astype('float32')/255.0\r\n",
        "temp_img_array=temp_img_array.reshape((1,32,32,3))\r\n",
        "\r\n",
        "#load model\r\n",
        "json_string=open('cifar10_cnn.json').read()\r\n",
        "model=model_from_json(json_string)\r\n",
        "model.compile(optimizer='adam',loss='categorical_crossentropy',metrics=['accuracy'])\r\n",
        "model.load_weights('cifar10_cnn.h5')\r\n",
        "\r\n",
        "#predict\r\n",
        "img_pred=model.predict_classes(temp_img_array)\r\n",
        "print('\\npredict_classes=',img_pred)\r\n",
        "\r\n",
        "plt.imshow(temp_img)\r\n",
        "plt.title('pred:{}'.format(img_pred))\r\n",
        "plt.show()"
      ],
      "execution_count": null,
      "outputs": []
    },
    {
      "cell_type": "markdown",
      "metadata": {
        "id": "lybzbG-e0Igh"
      },
      "source": [
        "どうやら、正しく判定できたようだ。\r\n",
        "\r\n",
        "##課題\r\n",
        "##上記のコードの読み込み画像を変え、正しく出力されるかみてみよう。\r\n"
      ]
    },
    {
      "cell_type": "code",
      "metadata": {
        "id": "P9XxwoF_0_de"
      },
      "source": [
        "from keras.models import model_from_json\r\n",
        "import matplotlib.pyplot as plt\r\n",
        "from keras.preprocessing.image import img_to_array, load_img\r\n",
        "\r\n",
        "#load image\r\n",
        "temp_img=load_img(\"./your image\",target_size=(32,32))\r\n",
        "\r\n",
        "#normalize\r\n",
        "temp_img_array=img_to_array(temp_img)\r\n",
        "temp_img_array=temp_img_array.astype('float32')/255.0\r\n",
        "temp_img_array=temp_img_array.reshape((1,32,32,3))\r\n",
        "\r\n",
        "#load model\r\n",
        "json_string=open('cifar10_cnn.json').read()\r\n",
        "model=model_from_json(json_string)\r\n",
        "model.compile(optimizer='adam',loss='categorical_crossentropy',metrics=['accuracy'])\r\n",
        "model.load_weights('cifar10_cnn.h5')\r\n",
        "\r\n",
        "#predict\r\n",
        "img_pred=model.predict_classes(temp_img_array)\r\n",
        "print('\\npredict_classes=',img_pred)\r\n",
        "\r\n",
        "plt.imshow(temp_img)\r\n",
        "plt.title('pred:{}'.format(img_pred))\r\n",
        "plt.show()"
      ],
      "execution_count": null,
      "outputs": []
    }
  ]
}