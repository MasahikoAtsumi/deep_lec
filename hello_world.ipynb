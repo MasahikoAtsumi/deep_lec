{
  "nbformat": 4,
  "nbformat_minor": 0,
  "metadata": {
    "colab": {
      "name": "hello_world.ipynb",
      "provenance": [],
      "collapsed_sections": [],
      "authorship_tag": "ABX9TyMsd0Hxeew2+4l7jTiXwCzG",
      "include_colab_link": true
    },
    "kernelspec": {
      "name": "python3",
      "display_name": "Python 3"
    },
    "accelerator": "GPU"
  },
  "cells": [
    {
      "cell_type": "markdown",
      "metadata": {
        "id": "view-in-github",
        "colab_type": "text"
      },
      "source": [
        "<a href=\"https://colab.research.google.com/github/MasahikoAtsumi/deep_lec/blob/main/hello_world.ipynb\" target=\"_parent\"><img src=\"https://colab.research.google.com/assets/colab-badge.svg\" alt=\"Open In Colab\"/></a>"
      ]
    },
    {
      "cell_type": "markdown",
      "metadata": {
        "id": "C7IQpPkBw5Eo"
      },
      "source": [
        "本ページではpythonの基礎とgoogle colaboratoryの使いかたを習得する。\r\n",
        "では、print文で\"Hello world\"と表示させることから初めてみよう…\r\n",
        "\r\n",
        "右上の＋コードをクリックし、print('Hello world')と入力した後、入力した枠の左にあるラジオボタン（三角形）をおしてみよう。\r\n",
        "\r\n",
        "\r\n",
        "---\r\n",
        "\r\n",
        "\r\n",
        "\r\n",
        "\r\n"
      ]
    },
    {
      "cell_type": "markdown",
      "metadata": {
        "id": "u43AtSUwyAxH"
      },
      "source": [
        "**回答**\r\n",
        "\r\n",
        "\r\n",
        "---\r\n",
        "\r\n"
      ]
    },
    {
      "cell_type": "code",
      "metadata": {
        "colab": {
          "base_uri": "https://localhost:8080/"
        },
        "id": "uPevgLcrx4f7",
        "outputId": "6acf19c4-ae7a-4560-9f58-105f88f6e723"
      },
      "source": [
        "print('Hello world')"
      ],
      "execution_count": 1,
      "outputs": [
        {
          "output_type": "stream",
          "text": [
            "Hello world\n"
          ],
          "name": "stdout"
        }
      ]
    },
    {
      "cell_type": "markdown",
      "metadata": {
        "id": "VVKY3wjKyI6Z"
      },
      "source": [
        "---\r\n",
        "どうだろうか？\r\n",
        "\r\n",
        "実行できただろうか？\r\n",
        "\r\n",
        "つぎは、計算をしてみよう。\r\n",
        "\r\n",
        "a = 10\r\n",
        "\r\n",
        "b = 9\r\n",
        "\r\n",
        "\r\n",
        "a＋bの演算結果をprint文でしてみよう。\r\n",
        "\r\n",
        "\r\n",
        "---\r\n",
        "\r\n"
      ]
    },
    {
      "cell_type": "markdown",
      "metadata": {
        "id": "LHIkOM07zJdZ"
      },
      "source": [
        "**回答**\r\n",
        "\r\n",
        "---\r\n",
        "\r\n"
      ]
    },
    {
      "cell_type": "code",
      "metadata": {
        "id": "WTzjDRPNzHQc"
      },
      "source": [
        "a = 10\r\n",
        "b = 9\r\n",
        "print( a + b )"
      ],
      "execution_count": null,
      "outputs": []
    },
    {
      "cell_type": "markdown",
      "metadata": {
        "id": "HBzUK9L40ImU"
      },
      "source": [
        "\r\n",
        "\r\n",
        "---\r\n",
        "\r\n",
        "\r\n",
        "すこし簡単すぎただろか？\r\n",
        "\r\n",
        "\r\n",
        "少し話題を変えて、つぎは画像を表示してみよう。\r\n",
        "\r\n",
        "\r\n",
        "\r\n",
        "1.   画像をinternetからダウンロード\r\n",
        "2.   google colaboratory内のファイルにアップロード\r\n",
        "3.   下のプログラム内のtemp_imgの読み込む先、サイズを変更する。\r\n",
        "4.   プログラムの実行。\r\n",
        "\r\n",
        "\r\n",
        "\r\n",
        "\r\n",
        "---\r\n",
        "\r\n"
      ]
    },
    {
      "cell_type": "code",
      "metadata": {
        "id": "NcBRtw4B0nri"
      },
      "source": [
        "import matplotlib.pyplot as plt\r\n",
        "from keras.preprocessing.image import img_to_array, load_img\r\n",
        "\r\n",
        "temp_img=load_img(\"./please edit by yourself\",target_size=(yoursize, yoursize))\r\n",
        "plt.imshow(temp_img)"
      ],
      "execution_count": null,
      "outputs": []
    },
    {
      "cell_type": "markdown",
      "metadata": {
        "id": "4P-Cy5k02rph"
      },
      "source": [
        "**回答**\r\n",
        "\r\n",
        "\r\n",
        "---\r\n",
        "\r\n"
      ]
    },
    {
      "cell_type": "code",
      "metadata": {
        "id": "c9DjQ9A62w4Z"
      },
      "source": [
        "import matplotlib.pyplot as plt\r\n",
        "from keras.preprocessing.image import img_to_array, load_img\r\n",
        "\r\n",
        "temp_img=load_img(\"./airplane.jpeg\",target_size=(150, 200))\r\n",
        "plt.imshow(temp_img)"
      ],
      "execution_count": null,
      "outputs": []
    }
  ]
}