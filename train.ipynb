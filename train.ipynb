{
  "nbformat": 4,
  "nbformat_minor": 0,
  "metadata": {
    "colab": {
      "name": "train.ipynb",
      "provenance": [],
      "collapsed_sections": [],
      "toc_visible": true,
      "authorship_tag": "ABX9TyN5mfNVWJOyn0ukpv7JEp8Y",
      "include_colab_link": true
    },
    "kernelspec": {
      "name": "python3",
      "display_name": "Python 3"
    },
    "accelerator": "GPU"
  },
  "cells": [
    {
      "cell_type": "markdown",
      "metadata": {
        "id": "view-in-github",
        "colab_type": "text"
      },
      "source": [
        "<a href=\"https://colab.research.google.com/github/MasahikoAtsumi/deep_lec/blob/main/train.ipynb\" target=\"_parent\"><img src=\"https://colab.research.google.com/assets/colab-badge.svg\" alt=\"Open In Colab\"/></a>"
      ]
    },
    {
      "cell_type": "markdown",
      "metadata": {
        "id": "FAgMhXQKxA_x"
      },
      "source": [
        "学習のフェーズについて学ぶ…\r\n",
        "スライドで説明したようにまず機械は傾向について学ばなければならない…\r\n",
        "\r\n",
        "0 - airplane\r\n",
        "\r\n",
        "1 - automobile\r\n",
        "\r\n",
        "2 - bird\r\n",
        "\r\n",
        "3 - cat\r\n",
        "\r\n",
        "4 - deer\r\n",
        "\r\n",
        "5 - dog\r\n",
        "\r\n",
        "6 - frog\r\n",
        "\r\n",
        "7 - horse\r\n",
        "\r\n",
        "8 - ship\r\n",
        "\r\n",
        "9 - truck \r\n",
        "\r\n",
        "とりあえず、分類する画像を見てみよう…\r\n",
        "\r\n",
        "\r\n"
      ]
    },
    {
      "cell_type": "code",
      "metadata": {
        "id": "2NHWoPZ-0llu"
      },
      "source": [
        "'''\r\n",
        "画像は32x32のRGBです。画像の上に表示されている数字が正解ラベル。\r\n",
        "\r\n",
        "0 - airplane\r\n",
        "1 - automobile\r\n",
        "2 - bird\r\n",
        "3 - cat\r\n",
        "4 - deer\r\n",
        "5 - dog\r\n",
        "6 - frog\r\n",
        "7 - horse\r\n",
        "8 - ship\r\n",
        "9 - truck\r\n",
        "\r\n",
        "ラベルはこのようになっています。\r\n",
        "'''\r\n",
        "\r\n",
        "from keras.datasets import cifar10\r\n",
        "import matplotlib.pyplot as plt\r\n",
        "import numpy as np\r\n",
        "\r\n",
        "(x_train,y_train),(x_test,y_test)=cifar10.load_data()\r\n",
        "\r\n",
        "#5x5枚の画像を表示する\r\n",
        "plt.figure(figsize=(10,10))\r\n",
        "for i in range(25):\r\n",
        "    rand_num=np.random.randint(0,50000)\r\n",
        "    cifar_img=plt.subplot(5,5,i+1)\r\n",
        "    plt.imshow(x_train[rand_num])\r\n",
        "    #x軸の目盛りを消す\r\n",
        "    plt.tick_params(labelbottom='off')\r\n",
        "    #y軸の目盛りを消す\r\n",
        "    plt.tick_params(labelleft='off')\r\n",
        "    #正解ラベルを表示\r\n",
        "    plt.title(y_train[rand_num])\r\n",
        "\r\n",
        "\r\n",
        "plt.show()"
      ],
      "execution_count": null,
      "outputs": []
    },
    {
      "cell_type": "markdown",
      "metadata": {
        "id": "dJndezZm1Wmf"
      },
      "source": [
        "以上の10種類の画像を分類できるか？\r\n",
        "\r\n",
        "次のコードで機械が学んでいく…"
      ]
    },
    {
      "cell_type": "code",
      "metadata": {
        "id": "5sJldhYjudvL"
      },
      "source": [
        "from keras.models import Sequential\r\n",
        "from keras.layers.convolutional import Conv2D\r\n",
        "from keras.layers.pooling import MaxPool2D\r\n",
        "from keras.layers.core import Dense,Activation,Dropout,Flatten\r\n",
        "from keras.datasets import cifar10\r\n",
        "from keras.utils import np_utils\r\n",
        "\r\n",
        "#cifar10をダウンロード\r\n",
        "(x_train,y_train),(x_test,y_test)=cifar10.load_data()\r\n",
        "\r\n",
        "#画像を0-1の範囲で正規化\r\n",
        "x_train=x_train.astype('float32')/255.0\r\n",
        "x_test=x_test.astype('float32')/255.0\r\n",
        "\r\n",
        "#正解ラベルをOne-Hot表現に変換\r\n",
        "y_train=np_utils.to_categorical(y_train,10)\r\n",
        "y_test=np_utils.to_categorical(y_test,10)\r\n",
        "\r\n",
        "#Difine the model\r\n",
        "model=Sequential()\r\n",
        "\r\n",
        "model.add(Conv2D(32,(3,3),padding='same',input_shape=(32,32,3)))\r\n",
        "model.add(Activation('relu'))\r\n",
        "model.add(Conv2D(32,(3,3),padding='same'))\r\n",
        "model.add(Activation('relu'))\r\n",
        "model.add(MaxPool2D(pool_size=(2,2)))\r\n",
        "model.add(Dropout(0.25))\r\n",
        "\r\n",
        "model.add(Conv2D(64,(3,3),padding='same'))\r\n",
        "model.add(Activation('relu'))\r\n",
        "model.add(Conv2D(64,(3,3),padding='same'))\r\n",
        "model.add(Activation('relu'))\r\n",
        "model.add(MaxPool2D(pool_size=(2,2)))\r\n",
        "model.add(Dropout(0.25))\r\n",
        "\r\n",
        "model.add(Flatten())\r\n",
        "model.add(Dense(512))\r\n",
        "model.add(Activation('relu'))\r\n",
        "model.add(Dropout(0.5))\r\n",
        "model.add(Dense(10,activation='softmax'))\r\n",
        "\r\n",
        "model.compile(optimizer='adam',loss='categorical_crossentropy',metrics=['accuracy'])\r\n",
        "\r\n",
        "history=model.fit(x_train,y_train,batch_size=128,epochs=20,verbose=1,validation_split=0.1)\r\n",
        "\r\n",
        "#モデルと重みを保存\r\n",
        "json_string=model.to_json()\r\n",
        "open('cifar10_cnn.json',\"w\").write(json_string)\r\n",
        "model.save_weights('cifar10_cnn.h5')\r\n",
        "\r\n",
        "#モデルの表示\r\n",
        "model.summary()\r\n",
        "\r\n",
        "#評価\r\n",
        "score=model.evaluate(x_test,y_test,verbose=0)\r\n",
        "print('Test loss:',score[0])\r\n",
        "print('Test accuracy:',score[1])\r\n",
        "#save\r\n",
        "json_string=model.to_json()\r\n",
        "open('cifar10_cnn.json',\"w\").write(json_string)\r\n",
        "\r\n",
        "model.save_weights('cifar10_cnn.h5')"
      ],
      "execution_count": null,
      "outputs": []
    },
    {
      "cell_type": "markdown",
      "metadata": {
        "id": "ql3NdiqNxeae"
      },
      "source": [
        "ファイルを確認してほしい。\r\n",
        ".h5が生成させれているのがわかる。これが学習の結果得られたパラメータの集合である。\r\n",
        "\r\n",
        "次のフェーズでは、推論つまり、学習の結果得られたパラメータを利用し、入力画像をあてることができるか判断するプログラムである…\r\n",
        "\r\n",
        "ansの隣の文字が推論結果である。\r\n",
        "\r\n",
        "どうだろうか？正しく推測されているだろうか。\r\n"
      ]
    },
    {
      "cell_type": "code",
      "metadata": {
        "id": "3p94Gpn6v68N"
      },
      "source": [
        "from keras.datasets import cifar10\r\n",
        "from keras.models import model_from_json\r\n",
        "from keras.utils import np_utils\r\n",
        "import matplotlib.pyplot as plt\r\n",
        "import numpy as np\r\n",
        "\r\n",
        "#cifar10をダウンロード\r\n",
        "(_,_),(x_test_img,y_test_img)=cifar10.load_data()\r\n",
        "\r\n",
        "#画像を0-1の範囲で正規化\r\n",
        "x_test=x_test_img.astype('float32')/255.0\r\n",
        "\r\n",
        "#正解ラベルをOne-Hot表現に変換\r\n",
        "y_test=np_utils.to_categorical(y_test_img,10)\r\n",
        "\r\n",
        "#学習済みのモデルと重みを読み込む\r\n",
        "json_string=open('cifar10_cnn.json').read()\r\n",
        "model=model_from_json(json_string)\r\n",
        "model.compile(optimizer='adam',loss='categorical_crossentropy',metrics=['accuracy'])\r\n",
        "model.load_weights('cifar10_cnn.h5')\r\n",
        "\r\n",
        "#モデルを表示\r\n",
        "model.summary()\r\n",
        "\r\n",
        "#評価\r\n",
        "score=model.evaluate(x_test,y_test,verbose=0)\r\n",
        "print('Test loss:',score[0])\r\n",
        "print('Test accuracy:',score[1])\r\n",
        "\r\n",
        "#predict_classesで画像のクラスを予想する\r\n",
        "img_pred=model.predict_classes(x_test)\r\n",
        "\r\n",
        "#5x5枚の画像を表示する\r\n",
        "plt.figure(figsize=(10,10))\r\n",
        "for i in range(25):\r\n",
        "    rand_num=np.random.randint(0,10000)\r\n",
        "    cifar_img=plt.subplot(5,5,i+1)\r\n",
        "    plt.imshow(x_test_img[rand_num])\r\n",
        "    #x軸の目盛りを消す\r\n",
        "    plt.tick_params(labelbottom='off')\r\n",
        "    #y軸の目盛りを消す\r\n",
        "    plt.tick_params(labelleft='off')\r\n",
        "    #画像の予想\r\n",
        "    plt.title('pred:{0},ans:{1}'.format(img_pred[rand_num],y_test_img[rand_num]))\r\n",
        "\r\n",
        "\r\n",
        "plt.show()"
      ],
      "execution_count": null,
      "outputs": []
    },
    {
      "cell_type": "markdown",
      "metadata": {
        "id": "a1POvce-zyWh"
      },
      "source": [
        "次は任意の画像で試してみよう。\r\n",
        "\r\n",
        "ここではairplane.jpeg を用いて対応するクラス[1]が出力されるか見てみよう。\r\n",
        "![airplane.jpeg](data:image/jpeg;base64,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)"
      ]
    },
    {
      "cell_type": "code",
      "metadata": {
        "id": "h35xnpt4wU70"
      },
      "source": [
        "from keras.models import model_from_json\r\n",
        "import matplotlib.pyplot as plt\r\n",
        "from keras.preprocessing.image import img_to_array, load_img\r\n",
        "\r\n",
        "#画像読み込み\r\n",
        "temp_img=load_img(\"./airplane.jpeg\",target_size=(32,32))\r\n",
        "\r\n",
        "#画像を配列に変換し0-1で正規化\r\n",
        "temp_img_array=img_to_array(temp_img)\r\n",
        "temp_img_array=temp_img_array.astype('float32')/255.0\r\n",
        "temp_img_array=temp_img_array.reshape((1,32,32,3))\r\n",
        "\r\n",
        "#学習済みのモデルと重みを読み込む\r\n",
        "json_string=open('cifar10_cnn.json').read()\r\n",
        "model=model_from_json(json_string)\r\n",
        "model.compile(optimizer='adam',loss='categorical_crossentropy',metrics=['accuracy'])\r\n",
        "model.load_weights('cifar10_cnn.h5')\r\n",
        "\r\n",
        "#モデルを表示\r\n",
        "model.summary()\r\n",
        "\r\n",
        "#画像を予想\r\n",
        "img_pred=model.predict_classes(temp_img_array)\r\n",
        "print('\\npredict_classes=',img_pred)\r\n",
        "\r\n",
        "plt.imshow(temp_img)\r\n",
        "plt.title('pred:{}'.format(img_pred))\r\n",
        "plt.show()"
      ],
      "execution_count": null,
      "outputs": []
    },
    {
      "cell_type": "markdown",
      "metadata": {
        "id": "lybzbG-e0Igh"
      },
      "source": [
        "どうやら、正しく判定できたようだ。\r\n",
        "\r\n",
        "##課題\r\n",
        "##上記のコードの読み込み画像を変え、正しく出力されるかみてみよう。\r\n"
      ]
    },
    {
      "cell_type": "code",
      "metadata": {
        "id": "P9XxwoF_0_de"
      },
      "source": [
        "from keras.models import model_from_json\r\n",
        "import matplotlib.pyplot as plt\r\n",
        "from keras.preprocessing.image import img_to_array, load_img\r\n",
        "\r\n",
        "#画像読み込み\r\n",
        "temp_img=load_img(\"./please edit by yourself\",target_size=(32,32))\r\n",
        "\r\n",
        "#画像を配列に変換し0-1で正規化\r\n",
        "temp_img_array=img_to_array(temp_img)\r\n",
        "temp_img_array=temp_img_array.astype('float32')/255.0\r\n",
        "temp_img_array=temp_img_array.reshape((1,32,32,3))\r\n",
        "\r\n",
        "#学習済みのモデルと重みを読み込む\r\n",
        "json_string=open('cifar10_cnn.json').read()\r\n",
        "model=model_from_json(json_string)\r\n",
        "model.compile(optimizer='adam',loss='categorical_crossentropy',metrics=['accuracy'])\r\n",
        "model.load_weights('cifar10_cnn.h5')\r\n",
        "\r\n",
        "#モデルを表示\r\n",
        "model.summary()\r\n",
        "\r\n",
        "#画像を予想\r\n",
        "img_pred=model.predict_classes(temp_img_array)\r\n",
        "print('\\npredict_classes=',img_pred)\r\n",
        "\r\n",
        "plt.imshow(temp_img)\r\n",
        "plt.title('pred:{}'.format(img_pred))\r\n",
        "plt.show()"
      ],
      "execution_count": null,
      "outputs": []
    }
  ]
}